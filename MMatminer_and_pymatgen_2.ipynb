{
 "cells": [
  {
   "cell_type": "code",
   "execution_count": 1,
   "id": "b35da9a1-ea6c-4075-a60a-fb4a00f608d4",
   "metadata": {
    "tags": []
   },
   "outputs": [],
   "source": [
    "import matminer\n",
    "import pandas as pd\n",
    "import pandas as pd\n",
    "import numpy as np\n",
    "from sklearn.linear_model import LinearRegression\n",
    "from sklearn.model_selection import train_test_split\n",
    "from sklearn.metrics import mean_squared_error\n",
    "from sklearn.metrics import r2_score\n",
    "from sklearn.model_selection import cross_val_score\n",
    "import matplotlib.pyplot as plt\n",
    "import seaborn as sns\n",
    "import gzip\n",
    "import json \n",
    "import zipfile \n",
    "import ipywidgets as widgets\n",
    "import webbrowser\n"
   ]
  },
  {
   "cell_type": "code",
   "execution_count": 2,
   "id": "8e044b9a-0599-4655-9c48-0d5f30eb9625",
   "metadata": {
    "tags": []
   },
   "outputs": [],
   "source": [
    "MP_API_KEY='cpgUyJvwcwmDywgVWU62h12KrUze4QjB'"
   ]
  },
  {
   "cell_type": "code",
   "execution_count": 2,
   "id": "9e870e0e",
   "metadata": {},
   "outputs": [
    {
     "name": "stdout",
     "output_type": "stream",
     "text": [
      "boltztrap_mp: Effective mass and thermoelectric properties of 8924 compounds in The  Materials Project database that are calculated by the BoltzTraP software package run on the GGA-PBE or GGA+U density functional theory calculation results. The properties are reported at the temperature of 300 Kelvin and the carrier concentration of 1e18 1/cm3.\n",
      "\n",
      "brgoch_superhard_training: 2574 materials used for training regressors that predict shear and bulk modulus.\n",
      "\n",
      "castelli_perovskites: 18,928 perovskites generated with ABX combinatorics, calculating gllbsc band gap and pbe structure, and also reporting absolute band edge positions and heat of formation.\n",
      "\n",
      "citrine_thermal_conductivity: Thermal conductivity of 872 compounds measured experimentally and retrieved from Citrine database from various references. The reported values are measured at various temperatures of which 295 are at room temperature.\n",
      "\n",
      "dielectric_constant: 1,056 structures with dielectric properties, calculated with DFPT-PBE.\n",
      "\n",
      "double_perovskites_gap: Band gap of 1306 double perovskites (a_1-b_1-a_2-b_2-O6) calculated using ﻿Gritsenko, van Leeuwen, van Lenthe and Baerends potential (gllbsc) in GPAW.\n",
      "\n",
      "double_perovskites_gap_lumo: Supplementary lumo data of 55 atoms for the double_perovskites_gap dataset.\n",
      "\n",
      "elastic_tensor_2015: 1,181 structures with elastic properties calculated with DFT-PBE.\n",
      "\n",
      "expt_formation_enthalpy: Experimental formation enthalpies for inorganic compounds, collected from years of calorimetric experiments. There are 1,276 entries in this dataset, mostly binary compounds. Matching mpids or oqmdids as well as the DFT-computed formation energies are also added (if any).\n",
      "\n",
      "expt_formation_enthalpy_kingsbury: Dataset containing experimental standard formation enthalpies for solids. Formation enthalpies were compiled primarily from Kim et al., Kubaschewski, and the NIST JANAF tables (see references). Elements, liquids, and gases were excluded. Data were deduplicated such that each material is associated with a single formation enthalpy value. Refer to Wang et al. (see references) for a complete desciption of the methods used. Materials Project database IDs (mp-ids) were assigned to materials from among computed materials in the Materials Project database (version 2021.03.22) that were 1) not marked 'theoretical', 2) had structures matching at least one ICSD material, and 3) were within 200 meV of the DFT-computed stable energy hull (e_above_hull < 0.2 eV). Among these candidates, we chose the mp-id with the lowest e_above_hull that matched the reported spacegroup (where available).\n",
      "\n",
      "expt_gap: Experimental band gap of 6354 inorganic semiconductors.\n",
      "\n",
      "expt_gap_kingsbury: Identical to the matbench_expt_gap dataset, except that Materials Project database IDs (mp-ids) have been associated with each material using the same method as described for the expt_formation_enthalpy_kingsbury dataset. Columns have also been renamed for consistency with the formation enthalpy data.\n",
      "\n",
      "flla: 3938 structures and computed formation energies from \"Crystal Structure Representations for Machine Learning Models of Formation Energies.\"\n",
      "\n",
      "glass_binary: Metallic glass formation data for binary alloys, collected from various experimental techniques such as melt-spinning or mechanical alloying. This dataset covers all compositions with an interval of 5 at. % in 59 binary systems, containing a total of 5959 alloys in the dataset. The target property of this dataset is the glass forming ability (GFA), i.e. whether the composition can form monolithic glass or not, which is either 1 for glass forming or 0 for non-full glass forming.\n",
      "\n",
      "glass_binary_v2: Identical to glass_binary dataset, but with duplicate entries merged. If there was a disagreement in gfa when merging the class was defaulted to 1.\n",
      "\n",
      "glass_ternary_hipt: Metallic glass formation dataset for ternary alloys, collected from the high-throughput sputtering experiments measuring whether it is possible to form a glass using sputtering. The hipt experimental data are of the Co-Fe-Zr, Co-Ti-Zr, Co-V-Zr and Fe-Ti-Nb ternary systems.\n",
      "\n",
      "glass_ternary_landolt: Metallic glass formation dataset for ternary alloys, collected from the \"Nonequilibrium Phase Diagrams of Ternary Amorphous Alloys,’ a volume of the Landolt– Börnstein collection. This dataset contains experimental measurements of whether it is possible to form a glass using a variety of processing techniques at thousands of compositions from hundreds of ternary systems. The processing techniques are designated in the \"processing\" column. There are originally 7191 experiments in this dataset, will be reduced to 6203 after deduplicated, and will be further reduced to 6118 if combining multiple data for one composition. There are originally 6780 melt-spinning experiments in this dataset, will be reduced to 5800 if deduplicated, and will be further reduced to 5736 if combining multiple experimental data for one composition.\n",
      "\n",
      "heusler_magnetic: 1153 Heusler alloys with DFT-calculated magnetic and electronic properties. The 1153 alloys include 576 full, 449 half and 128 inverse Heusler alloys. The data are extracted and cleaned (including de-duplicating) from Citrine.\n",
      "\n",
      "jarvis_dft_2d: Various properties of 636 2D materials computed with the OptB88vdW and TBmBJ functionals taken from the JARVIS DFT database.\n",
      "\n",
      "jarvis_dft_3d: Various properties of 25,923 bulk materials computed with the OptB88vdW and TBmBJ functionals taken from the JARVIS DFT database.\n",
      "\n",
      "jarvis_ml_dft_training: Various properties of 24,759 bulk and 2D materials computed with the OptB88vdW and TBmBJ functionals taken from the JARVIS DFT database.\n",
      "\n",
      "m2ax: Elastic properties of 223 stable M2AX compounds from \"A comprehensive survey of M2AX phase elastic properties\" by Cover et al. Calculations are PAW PW91.\n",
      "\n",
      "matbench_dielectric: Matbench v0.1 test dataset for predicting refractive index from structure. Adapted from Materials Project database. Removed entries having a formation energy (or energy above the convex hull) more than 150meV and those having refractive indices less than 1 and those containing noble gases. Retrieved April 2, 2019. For benchmarking w/ nested cross validation, the order of the dataset must be identical to the retrieved data; refer to the Automatminer/Matbench publication for more details.\n",
      "\n",
      "matbench_expt_gap: Matbench v0.1 test dataset for predicting experimental band gap from composition alone. Retrieved from Zhuo et al. supplementary information. Deduplicated according to composition, removing compositions with reported band gaps spanning more than a 0.1eV range; remaining compositions were assigned values based on the closest experimental value to the mean experimental value for that composition among all reports. For benchmarking w/ nested cross validation, the order of the dataset must be identical to the retrieved data; refer to the Automatminer/Matbench publication for more details.\n",
      "\n",
      "matbench_expt_is_metal: Matbench v0.1 test dataset for classifying metallicity from composition alone. Retrieved from Zhuo et al. supplementary information. Deduplicated according to composition, ensuring no conflicting reports were entered for any compositions (i.e., no reported compositions were both metal and nonmetal). For benchmarking w/ nested cross validation, the order of the dataset must be identical to the retrieved data; refer to the Automatminer/Matbench publication for more details.\n",
      "\n",
      "matbench_glass: Matbench v0.1 test dataset for predicting full bulk metallic glass formation ability from chemical formula. Retrieved from \"Nonequilibrium Phase Diagrams of Ternary Amorphous Alloys,’ a volume of the Landolt– Börnstein collection. Deduplicated according to composition, ensuring no compositions were reported as both GFA and not GFA (i.e., all reports agreed on the classification designation). For benchmarking w/ nested cross validation, the order of the dataset must be identical to the retrieved data; refer to the Automatminer/Matbench publication for more details.\n",
      "\n",
      "matbench_jdft2d: Matbench v0.1 test dataset for predicting exfoliation energies from crystal structure (computed with the OptB88vdW and TBmBJ functionals). Adapted from the JARVIS DFT database. For benchmarking w/ nested cross validation, the order of the dataset must be identical to the retrieved data; refer to the Automatminer/Matbench publication for more details.\n",
      "\n",
      "matbench_log_gvrh: Matbench v0.1 test dataset for predicting DFT log10 VRH-average shear modulus from structure. Adapted from Materials Project database. Removed entries having a formation energy (or energy above the convex hull) more than 150meV and those having negative G_Voigt, G_Reuss, G_VRH, K_Voigt, K_Reuss, or K_VRH and those failing G_Reuss <= G_VRH <= G_Voigt or K_Reuss <= K_VRH <= K_Voigt and those containing noble gases. Retrieved April 2, 2019. For benchmarking w/ nested cross validation, the order of the dataset must be identical to the retrieved data; refer to the Automatminer/Matbench publication for more details.\n",
      "\n",
      "matbench_log_kvrh: Matbench v0.1 test dataset for predicting DFT log10 VRH-average bulk modulus from structure. Adapted from Materials Project database. Removed entries having a formation energy (or energy above the convex hull) more than 150meV and those having negative G_Voigt, G_Reuss, G_VRH, K_Voigt, K_Reuss, or K_VRH and those failing G_Reuss <= G_VRH <= G_Voigt or K_Reuss <= K_VRH <= K_Voigt and those containing noble gases. Retrieved April 2, 2019. For benchmarking w/ nested cross validation, the order of the dataset must be identical to the retrieved data; refer to the Automatminer/Matbench publication for more details.\n",
      "\n",
      "matbench_mp_e_form: Matbench v0.1 test dataset for predicting DFT formation energy from structure. Adapted from Materials Project database. Removed entries having formation energy more than 2.5eV and those containing noble gases. Retrieved April 2, 2019. For benchmarking w/ nested cross validation, the order of the dataset must be identical to the retrieved data; refer to the Automatminer/Matbench publication for more details.\n",
      "\n",
      "matbench_mp_gap: Matbench v0.1 test dataset for predicting DFT PBE band gap from structure. Adapted from Materials Project database. Removed entries having a formation energy (or energy above the convex hull) more than 150meV and those containing noble gases. Retrieved April 2, 2019. For benchmarking w/ nested cross validation, the order of the dataset must be identical to the retrieved data; refer to the Automatminer/Matbench publication for more details.\n",
      "\n",
      "matbench_mp_is_metal: Matbench v0.1 test dataset for predicting DFT metallicity from structure. Adapted from Materials Project database. Removed entries having a formation energy (or energy above the convex hull) more than 150meV and those containing noble gases. Retrieved April 2, 2019. For benchmarking w/ nested cross validation, the order of the dataset must be identical to the retrieved data; refer to the Automatminer/Matbench publication for more details.\n",
      "\n",
      "matbench_perovskites: Matbench v0.1 test dataset for predicting formation energy from crystal structure. Adapted from an original dataset generated by Castelli et al. For benchmarking w/ nested cross validation, the order of the dataset must be identical to the retrieved data; refer to the Automatminer/Matbench publication for more details.\n",
      "\n",
      "matbench_phonons: Matbench v0.1 test dataset for predicting vibration properties from crystal structure. Original data retrieved from Petretto et al. Original calculations done via ABINIT in the harmonic approximation based on density functional perturbation theory. Removed entries having a formation energy (or energy above the convex hull) more than 150meV. For benchmarking w/ nested cross validation, the order of the dataset must be identical to the retrieved data; refer to the Automatminer/Matbench publication for more details.\n",
      "\n",
      "matbench_steels: Matbench v0.1 test dataset for predicting steel yield strengths from chemical composition alone. Retrieved from Citrine informatics. Deduplicated. For benchmarking w/ nested cross validation, the order of the dataset must be identical to the retrieved data; refer to the Automatminer/Matbench publication for more details.\n",
      "\n",
      "mp_all_20181018: A complete copy of the Materials Project database as of 10/18/2018. mp_all files contain structure data for each material while mp_nostruct does not.\n",
      "\n",
      "mp_nostruct_20181018: A complete copy of the Materials Project database as of 10/18/2018. mp_all files contain structure data for each material while mp_nostruct does not.\n",
      "\n",
      "phonon_dielectric_mp: Phonon (lattice/atoms vibrations) and dielectric properties of 1296 compounds computed via ABINIT software package in the harmonic approximation based on density functional perturbation theory.\n",
      "\n",
      "piezoelectric_tensor: 941 structures with piezoelectric properties, calculated with DFT-PBE.\n",
      "\n",
      "ricci_boltztrap_mp_tabular: Ab-initio electronic transport database for inorganic materials. Complex multivariable BoltzTraP simulation data is condensed down into tabular form of two main motifs: average eigenvalues at set moderate carrier concentrations and temperatures, and optimal values among all carrier concentrations and temperatures within certain ranges. Here are reported the average of the eigenvalues of conductivity effective mass (mₑᶜᵒⁿᵈ), the Seebeck coefficient (S), the conductivity (σ), the electronic thermal conductivity (κₑ), and the Power Factor (PF) at a doping level of 10¹⁸ cm⁻³ and at a temperature of 300 K for n- and p-type. Also, the maximum values for S, σ, PF, and the minimum value for κₑ chosen among the temperatures [100, 1300] K, the doping levels [10¹⁶, 10²¹] cm⁻³, and doping types are reported. The properties that depend on the relaxation time are reported divided by the constant value 10⁻¹⁴. The average of the eigenvalues for all the properties at all the temperatures, doping levels, and doping types are reported in the tables for each entry. Data is indexed by materials project id (mpid)\n",
      "\n",
      "steel_strength: 312 steels with experimental yield strength and ultimate tensile strength, extracted and cleaned (including de-duplicating) from Citrine.\n",
      "\n",
      "superconductivity2018: Dataset of ~16,000 experimental superconductivity records (critical temperatures) from Stanev et al., originally from the Japanese National Institute for Materials Science. Does not include structural data. Includes ~300 measurements from materials found without superconductivity (Tc=0). No modifications were made to the core dataset, aside from basic file type change to json for (un)packaging with matminer. Reproduced under the Creative Commons 4.0 license, which can be found here: http://creativecommons.org/licenses/by/4.0/.\n",
      "\n",
      "tholander_nitrides: A challenging data set for quantum machine learning containing a diverse set of 12.8k polymorphs in the Zn-Ti-N, Zn-Zr-N and Zn-Hf-N chemical systems. The phase diagrams of the Ti-Zn-N, Zr-Zn-N, and Hf-Zn-N systems are determined using large-scale high-throughput density functional calculations (DFT-GGA) (PBE). In total 12,815 relaxed structures are shared alongside their energy calculated using the VASP DFT code. The High-Throughput Toolkit was used to manage the calculations. Data adapted and deduplicated from the original data on Zenodo at https://zenodo.org/record/5530535#.YjJ3ZhDMJLQ, published under MIT licence. Collated from separate files of chemical systems and deduplicated according to identical structures matching ht_ids. Prepared in collaboration with Rhys Goodall.\n",
      "\n",
      "ucsb_thermoelectrics: Database of ~1,100 experimental thermoelectric materials from UCSB aggregated from 108 source publications and personal communications. Downloaded from Citrine. Source UCSB webpage is http://www.mrl.ucsb.edu:8080/datamine/thermoelectric.jsp. See reference for more information on original data aggregation. No duplicate entries are present, but each src may result in multiple measurements of the same materials' properties at different temperatures or conditions.\n",
      "\n",
      "wolverton_oxides: 4,914 perovskite oxides containing composition data, lattice constants, and formation + vacancy formation energies. All perovskites are of the form ABO3. Adapted from a dataset presented by Emery and Wolverton.\n",
      "\n",
      "\n"
     ]
    },
    {
     "data": {
      "text/plain": [
       "['boltztrap_mp',\n",
       " 'brgoch_superhard_training',\n",
       " 'castelli_perovskites',\n",
       " 'citrine_thermal_conductivity',\n",
       " 'dielectric_constant',\n",
       " 'double_perovskites_gap',\n",
       " 'double_perovskites_gap_lumo',\n",
       " 'elastic_tensor_2015',\n",
       " 'expt_formation_enthalpy',\n",
       " 'expt_formation_enthalpy_kingsbury',\n",
       " 'expt_gap',\n",
       " 'expt_gap_kingsbury',\n",
       " 'flla',\n",
       " 'glass_binary',\n",
       " 'glass_binary_v2',\n",
       " 'glass_ternary_hipt',\n",
       " 'glass_ternary_landolt',\n",
       " 'heusler_magnetic',\n",
       " 'jarvis_dft_2d',\n",
       " 'jarvis_dft_3d',\n",
       " 'jarvis_ml_dft_training',\n",
       " 'm2ax',\n",
       " 'matbench_dielectric',\n",
       " 'matbench_expt_gap',\n",
       " 'matbench_expt_is_metal',\n",
       " 'matbench_glass',\n",
       " 'matbench_jdft2d',\n",
       " 'matbench_log_gvrh',\n",
       " 'matbench_log_kvrh',\n",
       " 'matbench_mp_e_form',\n",
       " 'matbench_mp_gap',\n",
       " 'matbench_mp_is_metal',\n",
       " 'matbench_perovskites',\n",
       " 'matbench_phonons',\n",
       " 'matbench_steels',\n",
       " 'mp_all_20181018',\n",
       " 'mp_nostruct_20181018',\n",
       " 'phonon_dielectric_mp',\n",
       " 'piezoelectric_tensor',\n",
       " 'ricci_boltztrap_mp_tabular',\n",
       " 'steel_strength',\n",
       " 'superconductivity2018',\n",
       " 'tholander_nitrides',\n",
       " 'ucsb_thermoelectrics',\n",
       " 'wolverton_oxides']"
      ]
     },
     "execution_count": 2,
     "metadata": {},
     "output_type": "execute_result"
    }
   ],
   "source": [
    "from matminer.datasets import get_available_datasets\n",
    "\n",
    "get_available_datasets()"
   ]
  },
  {
   "cell_type": "code",
   "execution_count": 3,
   "id": "83414191-2b55-46c3-9ddc-da36dc812cc4",
   "metadata": {
    "tags": []
   },
   "outputs": [
    {
     "name": "stdout",
     "output_type": "stream",
     "text": [
      "Dataset: mp_all_20181018\n",
      "Description: A complete copy of the Materials Project database as of 10/18/2018. mp_all files contain structure data for each material while mp_nostruct does not.\n",
      "Columns:\n",
      "\tbulk modulus: in GPa, average of Voight, Reuss, and Hill\n",
      "\te_form: Formation energy per atom (eV)\n",
      "\te_hull: The calculated energy above the convex hull, in eV per atom\n",
      "\telastic anisotropy: The ratio of elastic anisotropy.\n",
      "\tformula: The chemical formula of the MP entry\n",
      "\tgap pbe: The band gap in eV calculated with PBE-DFT functional\n",
      "\tinitial structure: A Pymatgen Structure object describing the material crystal structure prior to relaxation\n",
      "\tmpid: (input): The Materials Project mpid, as a string.\n",
      "\tmu_b: The total magnetization of the unit cell.\n",
      "\tshear modulus: in GPa, average of Voight, Reuss, and Hill\n",
      "\tstructure: A Pymatgen Structure object describing the material crystal structure\n",
      "Num Entries: 83989\n",
      "Reference: A. Jain*, S.P. Ong*, G. Hautier, W. Chen, W.D. Richards, S. Dacek, S. Cholia, D. Gunter, D. Skinner, G. Ceder, K.A. Persson (*=equal contributions)\n",
      "The Materials Project: A materials genome approach to accelerating materials innovation\n",
      "APL Materials, 2013, 1(1), 011002.\n",
      "doi:10.1063/1.4812323\n",
      "Bibtex citations: ['@article{Jain2013,\\nauthor = {Jain, Anubhav and Ong, Shyue Ping and Hautier, Geoffroy and Chen, Wei and Richards, William Davidson and Dacek, Stephen and Cholia, Shreyas and Gunter, Dan and Skinner, David and Ceder, Gerbrand and Persson, Kristin a.},\\ndoi = {10.1063/1.4812323},\\nissn = {2166532X},\\njournal = {APL Materials},\\nnumber = {1},\\npages = {011002},\\ntitle = {{The Materials Project: A materials genome approach to accelerating materials innovation}},\\nurl = {http://link.aip.org/link/AMPADS/v1/i1/p011002/s1\\\\&Agg=doi},\\nvolume = {1},\\nyear = {2013}\\n}']\n",
      "File type: json.gz\n",
      "Figshare URL: https://ndownloader.figshare.com/files/13309250\n",
      "SHA256 Hash Digest: 1f3de2dc7c68959647240921b841293fce918ea1708e6f3760ba35a9cdfe0500\n",
      "\n",
      "\n"
     ]
    }
   ],
   "source": [
    "from matminer.datasets import get_all_dataset_info\n",
    "\n",
    "print(get_all_dataset_info(\"mp_all_20181018\"))"
   ]
  },
  {
   "cell_type": "code",
   "execution_count": 2,
   "id": "914a2fd7-f478-4b81-bbd6-327c00522b1a",
   "metadata": {},
   "outputs": [
    {
     "name": "stdout",
     "output_type": "stream",
     "text": [
      "Fetching matbench_expt_gap.json.gz from https://ml.materialsproject.org/projects/matbench_expt_gap.json.gz to /Users/geet/anaconda3/lib/python3.11/site-packages/matminer/datasets/matbench_expt_gap.json.gz\n"
     ]
    },
    {
     "name": "stderr",
     "output_type": "stream",
     "text": [
      "Fetching https://ml.materialsproject.org/projects/matbench_expt_gap.json.gz in MB: 0.038911999999999995MB [00:00,  1.67MB/s]\n"
     ]
    },
    {
     "data": {
      "text/html": [
       "<div>\n",
       "<style scoped>\n",
       "    .dataframe tbody tr th:only-of-type {\n",
       "        vertical-align: middle;\n",
       "    }\n",
       "\n",
       "    .dataframe tbody tr th {\n",
       "        vertical-align: top;\n",
       "    }\n",
       "\n",
       "    .dataframe thead th {\n",
       "        text-align: right;\n",
       "    }\n",
       "</style>\n",
       "<table border=\"1\" class=\"dataframe\">\n",
       "  <thead>\n",
       "    <tr style=\"text-align: right;\">\n",
       "      <th></th>\n",
       "      <th>gap expt</th>\n",
       "    </tr>\n",
       "  </thead>\n",
       "  <tbody>\n",
       "    <tr>\n",
       "      <th>count</th>\n",
       "      <td>4604.000000</td>\n",
       "    </tr>\n",
       "    <tr>\n",
       "      <th>mean</th>\n",
       "      <td>0.975951</td>\n",
       "    </tr>\n",
       "    <tr>\n",
       "      <th>std</th>\n",
       "      <td>1.445034</td>\n",
       "    </tr>\n",
       "    <tr>\n",
       "      <th>min</th>\n",
       "      <td>0.000000</td>\n",
       "    </tr>\n",
       "    <tr>\n",
       "      <th>25%</th>\n",
       "      <td>0.000000</td>\n",
       "    </tr>\n",
       "    <tr>\n",
       "      <th>50%</th>\n",
       "      <td>0.000000</td>\n",
       "    </tr>\n",
       "    <tr>\n",
       "      <th>75%</th>\n",
       "      <td>1.812500</td>\n",
       "    </tr>\n",
       "    <tr>\n",
       "      <th>max</th>\n",
       "      <td>11.700000</td>\n",
       "    </tr>\n",
       "  </tbody>\n",
       "</table>\n",
       "</div>"
      ],
      "text/plain": [
       "          gap expt\n",
       "count  4604.000000\n",
       "mean      0.975951\n",
       "std       1.445034\n",
       "min       0.000000\n",
       "25%       0.000000\n",
       "50%       0.000000\n",
       "75%       1.812500\n",
       "max      11.700000"
      ]
     },
     "execution_count": 2,
     "metadata": {},
     "output_type": "execute_result"
    }
   ],
   "source": [
    "\n",
    "from matminer.datasets import load_dataset\n",
    "\n",
    "df = load_dataset(\"matbench_expt_gap\")\n",
    "\n",
    "# Let's look at our dataset\n",
    "df.describe()"
   ]
  },
  {
   "cell_type": "code",
   "execution_count": 3,
   "id": "e6117f05-1036-4bd6-a447-119f88297e6c",
   "metadata": {},
   "outputs": [
    {
     "data": {
      "text/plain": [
       "4604"
      ]
     },
     "execution_count": 3,
     "metadata": {},
     "output_type": "execute_result"
    }
   ],
   "source": [
    "# How many unique compositions do we have?\n",
    "df[\"composition\"].unique().shape[0]"
   ]
  },
  {
   "cell_type": "code",
   "execution_count": 8,
   "id": "b7d36ea2-3ae5-4bfc-a3f9-02c518436acd",
   "metadata": {
    "tags": []
   },
   "outputs": [
    {
     "data": {
      "text/html": [
       "<div>\n",
       "<style scoped>\n",
       "    .dataframe tbody tr th:only-of-type {\n",
       "        vertical-align: middle;\n",
       "    }\n",
       "\n",
       "    .dataframe tbody tr th {\n",
       "        vertical-align: top;\n",
       "    }\n",
       "\n",
       "    .dataframe thead th {\n",
       "        text-align: right;\n",
       "    }\n",
       "</style>\n",
       "<table border=\"1\" class=\"dataframe\">\n",
       "  <thead>\n",
       "    <tr style=\"text-align: right;\">\n",
       "      <th></th>\n",
       "      <th>composition</th>\n",
       "      <th>gap expt</th>\n",
       "    </tr>\n",
       "  </thead>\n",
       "  <tbody>\n",
       "    <tr>\n",
       "      <th>0</th>\n",
       "      <td>Ag(AuS)2</td>\n",
       "      <td>0.00</td>\n",
       "    </tr>\n",
       "    <tr>\n",
       "      <th>1</th>\n",
       "      <td>Ag(W3Br7)2</td>\n",
       "      <td>0.00</td>\n",
       "    </tr>\n",
       "    <tr>\n",
       "      <th>2</th>\n",
       "      <td>Ag0.5Ge1Pb1.75S4</td>\n",
       "      <td>1.83</td>\n",
       "    </tr>\n",
       "    <tr>\n",
       "      <th>3</th>\n",
       "      <td>Ag0.5Ge1Pb1.75Se4</td>\n",
       "      <td>1.51</td>\n",
       "    </tr>\n",
       "    <tr>\n",
       "      <th>4</th>\n",
       "      <td>Ag2BBr</td>\n",
       "      <td>0.00</td>\n",
       "    </tr>\n",
       "    <tr>\n",
       "      <th>...</th>\n",
       "      <td>...</td>\n",
       "      <td>...</td>\n",
       "    </tr>\n",
       "    <tr>\n",
       "      <th>4599</th>\n",
       "      <td>ZrTaN3</td>\n",
       "      <td>1.72</td>\n",
       "    </tr>\n",
       "    <tr>\n",
       "      <th>4600</th>\n",
       "      <td>ZrTe</td>\n",
       "      <td>0.00</td>\n",
       "    </tr>\n",
       "    <tr>\n",
       "      <th>4601</th>\n",
       "      <td>ZrTi2O</td>\n",
       "      <td>0.00</td>\n",
       "    </tr>\n",
       "    <tr>\n",
       "      <th>4602</th>\n",
       "      <td>ZrTiF6</td>\n",
       "      <td>0.00</td>\n",
       "    </tr>\n",
       "    <tr>\n",
       "      <th>4603</th>\n",
       "      <td>ZrW2</td>\n",
       "      <td>0.00</td>\n",
       "    </tr>\n",
       "  </tbody>\n",
       "</table>\n",
       "<p>4604 rows × 2 columns</p>\n",
       "</div>"
      ],
      "text/plain": [
       "            composition  gap expt\n",
       "0              Ag(AuS)2      0.00\n",
       "1            Ag(W3Br7)2      0.00\n",
       "2      Ag0.5Ge1Pb1.75S4      1.83\n",
       "3     Ag0.5Ge1Pb1.75Se4      1.51\n",
       "4                Ag2BBr      0.00\n",
       "...                 ...       ...\n",
       "4599             ZrTaN3      1.72\n",
       "4600               ZrTe      0.00\n",
       "4601             ZrTi2O      0.00\n",
       "4602             ZrTiF6      0.00\n",
       "4603               ZrW2      0.00\n",
       "\n",
       "[4604 rows x 2 columns]"
      ]
     },
     "execution_count": 8,
     "metadata": {},
     "output_type": "execute_result"
    }
   ],
   "source": [
    "df"
   ]
  },
  {
   "cell_type": "code",
   "execution_count": 4,
   "id": "7f190d8a-d5f5-4539-9fd0-a1ccde085fed",
   "metadata": {
    "tags": []
   },
   "outputs": [],
   "source": [
    "#from sklearn.model_selection import train_test_split\n",
    "\n",
    "#train_df, test_df = train_test_split(df, test_size=0.2, shuffle=True, random_state=20191014)"
   ]
  },
  {
   "cell_type": "code",
   "execution_count": 9,
   "id": "7ad03fe8-5754-420c-a67e-6c36f5ce3d5f",
   "metadata": {
    "tags": []
   },
   "outputs": [
    {
     "data": {
      "text/html": [
       "<div>\n",
       "<style scoped>\n",
       "    .dataframe tbody tr th:only-of-type {\n",
       "        vertical-align: middle;\n",
       "    }\n",
       "\n",
       "    .dataframe tbody tr th {\n",
       "        vertical-align: top;\n",
       "    }\n",
       "\n",
       "    .dataframe thead th {\n",
       "        text-align: right;\n",
       "    }\n",
       "</style>\n",
       "<table border=\"1\" class=\"dataframe\">\n",
       "  <thead>\n",
       "    <tr style=\"text-align: right;\">\n",
       "      <th></th>\n",
       "      <th>composition</th>\n",
       "    </tr>\n",
       "  </thead>\n",
       "  <tbody>\n",
       "    <tr>\n",
       "      <th>4514</th>\n",
       "      <td>ZnSb</td>\n",
       "    </tr>\n",
       "    <tr>\n",
       "      <th>834</th>\n",
       "      <td>Co1Te1.88</td>\n",
       "    </tr>\n",
       "    <tr>\n",
       "      <th>4481</th>\n",
       "      <td>Zn2Ni9O13</td>\n",
       "    </tr>\n",
       "    <tr>\n",
       "      <th>3958</th>\n",
       "      <td>TiAlAu2</td>\n",
       "    </tr>\n",
       "    <tr>\n",
       "      <th>3087</th>\n",
       "      <td>Pr(MnSi)2</td>\n",
       "    </tr>\n",
       "  </tbody>\n",
       "</table>\n",
       "</div>"
      ],
      "text/plain": [
       "     composition\n",
       "4514        ZnSb\n",
       "834    Co1Te1.88\n",
       "4481   Zn2Ni9O13\n",
       "3958     TiAlAu2\n",
       "3087   Pr(MnSi)2"
      ]
     },
     "execution_count": 9,
     "metadata": {},
     "output_type": "execute_result"
    }
   ],
   "source": [
    "#target = \"gap expt\"\n",
    "prediction_df = test_df.drop(columns=[target])\n",
    "prediction_df.head()"
   ]
  },
  {
   "cell_type": "code",
   "execution_count": 6,
   "id": "af0d7dac-3b7c-46a7-810c-aecda8829e33",
   "metadata": {
    "tags": []
   },
   "outputs": [
    {
     "data": {
      "text/html": [
       "<div>\n",
       "<style scoped>\n",
       "    .dataframe tbody tr th:only-of-type {\n",
       "        vertical-align: middle;\n",
       "    }\n",
       "\n",
       "    .dataframe tbody tr th {\n",
       "        vertical-align: top;\n",
       "    }\n",
       "\n",
       "    .dataframe thead th {\n",
       "        text-align: right;\n",
       "    }\n",
       "</style>\n",
       "<table border=\"1\" class=\"dataframe\">\n",
       "  <thead>\n",
       "    <tr style=\"text-align: right;\">\n",
       "      <th></th>\n",
       "      <th>composition</th>\n",
       "    </tr>\n",
       "  </thead>\n",
       "  <tbody>\n",
       "    <tr>\n",
       "      <th>count</th>\n",
       "      <td>921</td>\n",
       "    </tr>\n",
       "    <tr>\n",
       "      <th>unique</th>\n",
       "      <td>921</td>\n",
       "    </tr>\n",
       "    <tr>\n",
       "      <th>top</th>\n",
       "      <td>ZnSb</td>\n",
       "    </tr>\n",
       "    <tr>\n",
       "      <th>freq</th>\n",
       "      <td>1</td>\n",
       "    </tr>\n",
       "  </tbody>\n",
       "</table>\n",
       "</div>"
      ],
      "text/plain": [
       "       composition\n",
       "count          921\n",
       "unique         921\n",
       "top           ZnSb\n",
       "freq             1"
      ]
     },
     "execution_count": 6,
     "metadata": {},
     "output_type": "execute_result"
    }
   ],
   "source": [
    "prediction_df.describe()"
   ]
  },
  {
   "cell_type": "code",
   "execution_count": 7,
   "id": "b096fc4a-c60d-4400-a317-2665fc910c07",
   "metadata": {
    "tags": []
   },
   "outputs": [
    {
     "name": "stdout",
     "output_type": "stream",
     "text": [
      "Collecting automatminer\n",
      "  Downloading automatminer-1.0.3.20200727-py3-none-any.whl (463 kB)\n",
      "\u001b[2K     \u001b[90m━━━━━━━━━━━━━━━━━━━━━━━━━━━━━━━━━━━━━━━\u001b[0m \u001b[32m463.1/463.1 kB\u001b[0m \u001b[31m2.8 MB/s\u001b[0m eta \u001b[36m0:00:00\u001b[0m00:01\u001b[0m00:01\u001b[0m\n",
      "\u001b[?25hCollecting matminer==0.6.2 (from automatminer)\n",
      "  Downloading matminer-0.6.2.tar.gz (6.8 MB)\n",
      "\u001b[2K     \u001b[90m━━━━━━━━━━━━━━━━━━━━━━━━━━━━━━━━━━━━━━━━\u001b[0m \u001b[32m6.8/6.8 MB\u001b[0m \u001b[31m2.3 MB/s\u001b[0m eta \u001b[36m0:00:00\u001b[0m00:01\u001b[0m00:01\u001b[0m\n",
      "\u001b[?25h  Preparing metadata (setup.py) ... \u001b[?25ldone\n",
      "\u001b[?25hCollecting pymatgen==2020.01.28 (from automatminer)\n",
      "  Downloading pymatgen-2020.1.28.tar.gz (2.6 MB)\n",
      "\u001b[2K     \u001b[90m━━━━━━━━━━━━━━━━━━━━━━━━━━━━━━━━━━━━━━━━\u001b[0m \u001b[32m2.6/2.6 MB\u001b[0m \u001b[31m1.8 MB/s\u001b[0m eta \u001b[36m0:00:00\u001b[0m00:01\u001b[0m00:01\u001b[0m\n",
      "\u001b[?25h  Preparing metadata (setup.py) ... \u001b[?25ldone\n",
      "\u001b[?25hCollecting tpot==0.11.0 (from automatminer)\n",
      "  Downloading TPOT-0.11.0.tar.gz (896 kB)\n",
      "\u001b[2K     \u001b[90m━━━━━━━━━━━━━━━━━━━━━━━━━━━━━━━━━━━━━━━\u001b[0m \u001b[32m896.5/896.5 kB\u001b[0m \u001b[31m3.2 MB/s\u001b[0m eta \u001b[36m0:00:00\u001b[0m00:01\u001b[0m00:01\u001b[0m\n",
      "\u001b[?25h  Preparing metadata (setup.py) ... \u001b[?25ldone\n",
      "\u001b[?25hCollecting skrebate==0.6 (from automatminer)\n",
      "  Downloading skrebate-0.6.tar.gz (19 kB)\n",
      "  Preparing metadata (setup.py) ... \u001b[?25ldone\n",
      "\u001b[?25hCollecting pyyaml==5.1.2 (from automatminer)\n",
      "  Downloading PyYAML-5.1.2.tar.gz (265 kB)\n",
      "\u001b[2K     \u001b[90m━━━━━━━━━━━━━━━━━━━━━━━━━━━━━━━━━━━━━━━\u001b[0m \u001b[32m265.0/265.0 kB\u001b[0m \u001b[31m2.0 MB/s\u001b[0m eta \u001b[36m0:00:00\u001b[0ma \u001b[36m0:00:01\u001b[0m\n",
      "\u001b[?25h  Preparing metadata (setup.py) ... \u001b[?25ldone\n",
      "\u001b[?25hINFO: pip is looking at multiple versions of automatminer to determine which version is compatible with other requirements. This could take a while.\n",
      "Collecting automatminer\n",
      "  Downloading automatminer-1.0.3.20191111-py3-none-any.whl (462 kB)\n",
      "\u001b[2K     \u001b[90m━━━━━━━━━━━━━━━━━━━━━━━━━━━━━━━━━━━━━━━\u001b[0m \u001b[32m462.3/462.3 kB\u001b[0m \u001b[31m2.8 MB/s\u001b[0m eta \u001b[36m0:00:00\u001b[0m00:01\u001b[0m00:01\u001b[0m\n",
      "\u001b[?25hCollecting xgboost==0.80 (from automatminer)\n",
      "  Downloading xgboost-0.80.tar.gz (595 kB)\n",
      "\u001b[2K     \u001b[90m━━━━━━━━━━━━━━━━━━━━━━━━━━━━━━━━━━━━━━━\u001b[0m \u001b[32m595.8/595.8 kB\u001b[0m \u001b[31m3.0 MB/s\u001b[0m eta \u001b[36m0:00:00\u001b[0m00:01\u001b[0m00:01\u001b[0m\n",
      "\u001b[?25h  Preparing metadata (setup.py) ... \u001b[?25ldone\n",
      "\u001b[?25hRequirement already satisfied: numpy in /Users/geet/anaconda3/lib/python3.11/site-packages (from automatminer) (1.26.2)\n",
      "Requirement already satisfied: pandas in /Users/geet/anaconda3/lib/python3.11/site-packages (from automatminer) (2.1.3)\n",
      "Requirement already satisfied: scikit-learn in /Users/geet/anaconda3/lib/python3.11/site-packages (from automatminer) (1.3.0)\n",
      "Requirement already satisfied: pymatgen in /Users/geet/anaconda3/lib/python3.11/site-packages (from automatminer) (2023.11.12)\n",
      "Requirement already satisfied: requests>=2.20.0 in /Users/geet/anaconda3/lib/python3.11/site-packages (from matminer==0.6.2->automatminer) (2.31.0)\n",
      "Requirement already satisfied: tqdm>=4.23.1 in /Users/geet/anaconda3/lib/python3.11/site-packages (from matminer==0.6.2->automatminer) (4.66.1)\n",
      "Requirement already satisfied: pymongo>=3.6.1 in /Users/geet/anaconda3/lib/python3.11/site-packages (from matminer==0.6.2->automatminer) (4.6.0)\n",
      "Collecting pint>=0.8.1 (from matminer==0.6.2->automatminer)\n",
      "  Downloading Pint-0.22-py3-none-any.whl.metadata (7.7 kB)\n",
      "Requirement already satisfied: six>=1.11.0 in /Users/geet/anaconda3/lib/python3.11/site-packages (from matminer==0.6.2->automatminer) (1.16.0)\n",
      "Requirement already satisfied: plotly>=3.2.1 in /Users/geet/anaconda3/lib/python3.11/site-packages (from matminer==0.6.2->automatminer) (5.18.0)\n",
      "Requirement already satisfied: future>=0.16.0 in /Users/geet/anaconda3/lib/python3.11/site-packages (from matminer==0.6.2->automatminer) (0.18.3)\n",
      "Requirement already satisfied: sympy>=1.1.1 in /Users/geet/anaconda3/lib/python3.11/site-packages (from matminer==0.6.2->automatminer) (1.12)\n",
      "Requirement already satisfied: monty>=3.0.1 in /Users/geet/anaconda3/lib/python3.11/site-packages (from matminer==0.6.2->automatminer) (2023.11.3)\n",
      "Requirement already satisfied: scipy in /Users/geet/anaconda3/lib/python3.11/site-packages (from skrebate==0.6->automatminer) (1.11.4)\n",
      "Collecting deap>=1.2 (from tpot==0.11.0->automatminer)\n",
      "  Downloading deap-1.4.1.tar.gz (1.1 MB)\n",
      "\u001b[2K     \u001b[90m━━━━━━━━━━━━━━━━━━━━━━━━━━━━━━━━━━━━━━━━\u001b[0m \u001b[32m1.1/1.1 MB\u001b[0m \u001b[31m3.2 MB/s\u001b[0m eta \u001b[36m0:00:00\u001b[0m00:01\u001b[0m00:01\u001b[0m\n",
      "\u001b[?25h  Preparing metadata (setup.py) ... \u001b[?25ldone\n",
      "\u001b[?25hCollecting update_checker>=0.16 (from tpot==0.11.0->automatminer)\n",
      "  Downloading update_checker-0.18.0-py3-none-any.whl (7.0 kB)\n",
      "Collecting stopit>=1.1.1 (from tpot==0.11.0->automatminer)\n",
      "  Downloading stopit-1.1.2.tar.gz (18 kB)\n",
      "  Preparing metadata (setup.py) ... \u001b[?25ldone\n",
      "\u001b[?25hRequirement already satisfied: joblib>=0.13.2 in /Users/geet/anaconda3/lib/python3.11/site-packages (from tpot==0.11.0->automatminer) (1.3.2)\n",
      "Requirement already satisfied: python-dateutil>=2.8.2 in /Users/geet/anaconda3/lib/python3.11/site-packages (from pandas->automatminer) (2.8.2)\n",
      "Requirement already satisfied: pytz>=2020.1 in /Users/geet/anaconda3/lib/python3.11/site-packages (from pandas->automatminer) (2023.3.post1)\n",
      "Requirement already satisfied: tzdata>=2022.1 in /Users/geet/anaconda3/lib/python3.11/site-packages (from pandas->automatminer) (2023.3)\n",
      "Requirement already satisfied: matplotlib>=1.5 in /Users/geet/anaconda3/lib/python3.11/site-packages (from pymatgen->automatminer) (3.8.2)\n",
      "Requirement already satisfied: networkx>=2.2 in /Users/geet/anaconda3/lib/python3.11/site-packages (from pymatgen->automatminer) (3.2.1)\n",
      "Requirement already satisfied: palettable>=3.1.1 in /Users/geet/anaconda3/lib/python3.11/site-packages (from pymatgen->automatminer) (3.3.3)\n",
      "Requirement already satisfied: pybtex in /Users/geet/anaconda3/lib/python3.11/site-packages (from pymatgen->automatminer) (0.24.0)\n",
      "Requirement already satisfied: ruamel.yaml>=0.17.0 in /Users/geet/anaconda3/lib/python3.11/site-packages (from pymatgen->automatminer) (0.17.40)\n",
      "Requirement already satisfied: spglib>=2.0.2 in /Users/geet/anaconda3/lib/python3.11/site-packages (from pymatgen->automatminer) (2.1.0)\n",
      "Requirement already satisfied: tabulate in /Users/geet/anaconda3/lib/python3.11/site-packages (from pymatgen->automatminer) (0.9.0)\n",
      "Requirement already satisfied: uncertainties>=3.1.4 in /Users/geet/anaconda3/lib/python3.11/site-packages (from pymatgen->automatminer) (3.1.7)\n",
      "Requirement already satisfied: threadpoolctl>=2.0.0 in /Users/geet/anaconda3/lib/python3.11/site-packages (from scikit-learn->automatminer) (2.2.0)\n",
      "Requirement already satisfied: contourpy>=1.0.1 in /Users/geet/anaconda3/lib/python3.11/site-packages (from matplotlib>=1.5->pymatgen->automatminer) (1.2.0)\n",
      "Requirement already satisfied: cycler>=0.10 in /Users/geet/anaconda3/lib/python3.11/site-packages (from matplotlib>=1.5->pymatgen->automatminer) (0.12.1)\n",
      "Requirement already satisfied: fonttools>=4.22.0 in /Users/geet/anaconda3/lib/python3.11/site-packages (from matplotlib>=1.5->pymatgen->automatminer) (4.45.1)\n",
      "Requirement already satisfied: kiwisolver>=1.3.1 in /Users/geet/anaconda3/lib/python3.11/site-packages (from matplotlib>=1.5->pymatgen->automatminer) (1.4.5)\n",
      "Requirement already satisfied: packaging>=20.0 in /Users/geet/anaconda3/lib/python3.11/site-packages (from matplotlib>=1.5->pymatgen->automatminer) (23.2)\n",
      "Requirement already satisfied: pillow>=8 in /Users/geet/anaconda3/lib/python3.11/site-packages (from matplotlib>=1.5->pymatgen->automatminer) (10.1.0)\n",
      "Requirement already satisfied: pyparsing>=2.3.1 in /Users/geet/anaconda3/lib/python3.11/site-packages (from matplotlib>=1.5->pymatgen->automatminer) (3.0.9)\n",
      "Requirement already satisfied: typing-extensions in /Users/geet/anaconda3/lib/python3.11/site-packages (from pint>=0.8.1->matminer==0.6.2->automatminer) (4.8.0)\n",
      "Requirement already satisfied: tenacity>=6.2.0 in /Users/geet/anaconda3/lib/python3.11/site-packages (from plotly>=3.2.1->matminer==0.6.2->automatminer) (8.2.3)\n",
      "Requirement already satisfied: dnspython<3.0.0,>=1.16.0 in /Users/geet/anaconda3/lib/python3.11/site-packages (from pymongo>=3.6.1->matminer==0.6.2->automatminer) (2.4.2)\n",
      "Requirement already satisfied: charset-normalizer<4,>=2 in /Users/geet/anaconda3/lib/python3.11/site-packages (from requests>=2.20.0->matminer==0.6.2->automatminer) (3.3.2)\n",
      "Requirement already satisfied: idna<4,>=2.5 in /Users/geet/anaconda3/lib/python3.11/site-packages (from requests>=2.20.0->matminer==0.6.2->automatminer) (3.6)\n",
      "Requirement already satisfied: urllib3<3,>=1.21.1 in /Users/geet/anaconda3/lib/python3.11/site-packages (from requests>=2.20.0->matminer==0.6.2->automatminer) (2.0.7)\n",
      "Requirement already satisfied: certifi>=2017.4.17 in /Users/geet/anaconda3/lib/python3.11/site-packages (from requests>=2.20.0->matminer==0.6.2->automatminer) (2023.11.17)\n",
      "Requirement already satisfied: ruamel.yaml.clib>=0.2.7 in /Users/geet/anaconda3/lib/python3.11/site-packages (from ruamel.yaml>=0.17.0->pymatgen->automatminer) (0.2.8)\n",
      "Requirement already satisfied: mpmath>=0.19 in /Users/geet/anaconda3/lib/python3.11/site-packages (from sympy>=1.1.1->matminer==0.6.2->automatminer) (1.3.0)\n",
      "Requirement already satisfied: latexcodec>=1.0.4 in /Users/geet/anaconda3/lib/python3.11/site-packages (from pybtex->pymatgen->automatminer) (2.0.1)\n",
      "Downloading Pint-0.22-py3-none-any.whl (294 kB)\n",
      "\u001b[2K   \u001b[90m━━━━━━━━━━━━━━━━━━━━━━━━━━━━━━━━━━━━━━━━\u001b[0m \u001b[32m294.0/294.0 kB\u001b[0m \u001b[31m1.5 MB/s\u001b[0m eta \u001b[36m0:00:00\u001b[0m00:01\u001b[0m00:01\u001b[0m\n",
      "\u001b[?25hBuilding wheels for collected packages: matminer, pyyaml, skrebate, tpot, xgboost, deap, stopit\n",
      "  Building wheel for matminer (setup.py) ... \u001b[?25ldone\n",
      "\u001b[?25h  Created wheel for matminer: filename=matminer-0.6.2-py3-none-any.whl size=1162506 sha256=1653d1e2e462c70cfc852d02b89460a63373ed516650ad2fcea0101516e60aa2\n",
      "  Stored in directory: /Users/geet/Library/Caches/pip/wheels/d5/c7/a5/07291e1385965a145510d6d7a2de1b2d9bc453a7202aaa61fc\n",
      "  Building wheel for pyyaml (setup.py) ... \u001b[?25ldone\n",
      "\u001b[?25h  Created wheel for pyyaml: filename=PyYAML-5.1.2-cp311-cp311-macosx_10_9_x86_64.whl size=44120 sha256=4407e1160435bbeb8609f2e255afac04d5ec3b592210e193e2452caaf377a885\n",
      "  Stored in directory: /Users/geet/Library/Caches/pip/wheels/0b/8d/e5/361bca453c038ddf3e32ede066b4c403fc85c7fb80db3f4f62\n",
      "  Building wheel for skrebate (setup.py) ... \u001b[?25ldone\n",
      "\u001b[?25h  Created wheel for skrebate: filename=skrebate-0.6-py3-none-any.whl size=29325 sha256=0a02e3f5050108a0ba2287c5040ff448c54cec896c8d424d6f41e970b88b514d\n",
      "  Stored in directory: /Users/geet/Library/Caches/pip/wheels/56/3d/07/be4e54632efe08954469234f6ef536064eaadc7484df29531c\n",
      "  Building wheel for tpot (setup.py) ... \u001b[?25ldone\n",
      "\u001b[?25h  Created wheel for tpot: filename=TPOT-0.11.0-py3-none-any.whl size=75675 sha256=342f83c2b747f81bf10e1747cc1441788f9aa113ab3c3609031fcd8421e47acc\n",
      "  Stored in directory: /Users/geet/Library/Caches/pip/wheels/74/c3/a4/2a67982e73d8af02daf6d730c251892007d8334ce47f87fddc\n",
      "  Building wheel for xgboost (setup.py) ... \u001b[?25ldone\n",
      "\u001b[?25h  Created wheel for xgboost: filename=xgboost-0.80-cp311-cp311-macosx_10_15_x86_64.whl size=1496083 sha256=5e53c3bc446c7a175c2f40dd6e747631feb443535e00ab832d167e4ba81515ed\n",
      "  Stored in directory: /Users/geet/Library/Caches/pip/wheels/8a/37/68/9e93b323b4c3cf9e56fd13cdbd27139837225805910880c980\n",
      "  Building wheel for deap (setup.py) ... \u001b[?25ldone\n",
      "\u001b[?25h  Created wheel for deap: filename=deap-1.4.1-cp311-cp311-macosx_10_9_x86_64.whl size=104194 sha256=2e1c1958ea89b6916786f66b970de1ec2413b4aa739d05d77085846e35361bcb\n",
      "  Stored in directory: /Users/geet/Library/Caches/pip/wheels/f8/64/b8/65eacfbff3024ae2e2beb22e691d5c8abb89fbd863b8049b5f\n",
      "  Building wheel for stopit (setup.py) ... \u001b[?25ldone\n",
      "\u001b[?25h  Created wheel for stopit: filename=stopit-1.1.2-py3-none-any.whl size=11937 sha256=393e328d5108a79bb226a17bb39fafeb22d3274c2cdc66d5cda5c058de7d87c8\n",
      "  Stored in directory: /Users/geet/Library/Caches/pip/wheels/da/77/2d/adbc56bc4db95ad80c6d4e71cd69e2d9d122174904342e3f7f\n",
      "Successfully built matminer pyyaml skrebate tpot xgboost deap stopit\n",
      "Installing collected packages: stopit, pyyaml, pint, deap, xgboost, update_checker, tpot, skrebate, matminer, automatminer\n",
      "  Attempting uninstall: pyyaml\n",
      "    Found existing installation: PyYAML 6.0.1\n",
      "    Uninstalling PyYAML-6.0.1:\n",
      "      Successfully uninstalled PyYAML-6.0.1\n",
      "  Attempting uninstall: matminer\n",
      "    Found existing installation: matminer 0.9.0\n",
      "    Uninstalling matminer-0.9.0:\n",
      "      Successfully uninstalled matminer-0.9.0\n",
      "\u001b[31mERROR: pip's dependency resolver does not currently take into account all the packages that are installed. This behaviour is the source of the following dependency conflicts.\n",
      "conda-repo-cli 1.0.75 requires requests_mock, which is not installed.\n",
      "dask 2023.6.0 requires pyyaml>=5.3.1, but you have pyyaml 5.1.2 which is incompatible.\n",
      "conda-repo-cli 1.0.75 requires clyent==1.2.1, but you have clyent 1.2.2 which is incompatible.\n",
      "conda-repo-cli 1.0.75 requires PyYAML==6.0.1, but you have pyyaml 5.1.2 which is incompatible.\n",
      "jupyter-events 0.6.3 requires pyyaml>=5.3, but you have pyyaml 5.1.2 which is incompatible.\n",
      "pytorch-lightning 2.1.2 requires PyYAML>=5.4, but you have pyyaml 5.1.2 which is incompatible.\n",
      "distributed 2023.6.0 requires pyyaml>=5.3.1, but you have pyyaml 5.1.2 which is incompatible.\u001b[0m\u001b[31m\n",
      "\u001b[0mSuccessfully installed automatminer-1.0.3.20191111 deap-1.4.1 matminer-0.6.2 pint-0.22 pyyaml-5.1.2 skrebate-0.6 stopit-1.1.2 tpot-0.11.0 update_checker-0.18.0 xgboost-0.80\n",
      "Note: you may need to restart the kernel to use updated packages.\n"
     ]
    }
   ],
   "source": [
    "pip install automatminer"
   ]
  },
  {
   "cell_type": "markdown",
   "id": "2280283f-7043-45ec-983c-65a717331b4f",
   "metadata": {},
   "source": [
    "**Atomatic ML with automatminer** - **It will take a few hours** -Don't run now "
   ]
  },
  {
   "cell_type": "code",
   "execution_count": null,
   "id": "e2183f41-d038-4001-8cd6-728505c14e3d",
   "metadata": {},
   "outputs": [],
   "source": [
    "from automatminer import MatPipe\n",
    "\n",
    "pipe = MatPipe.from_preset(\"express\")"
   ]
  },
  {
   "cell_type": "code",
   "execution_count": 10,
   "id": "a7df9507-f00d-4bef-8f6f-e15cb5afedf6",
   "metadata": {
    "tags": []
   },
   "outputs": [
    {
     "name": "stdout",
     "output_type": "stream",
     "text": [
      "Fetching dielectric_constant.json.gz from https://ndownloader.figshare.com/files/13213475 to /Users/geet/anaconda3/lib/python3.11/site-packages/matminer/datasets/dielectric_constant.json.gz\n"
     ]
    },
    {
     "name": "stderr",
     "output_type": "stream",
     "text": [
      "Fetching https://ndownloader.figshare.com/files/13213475 in MB: 0.002048MB [00:00,  3.20s/MB]\n",
      "/Users/geet/anaconda3/lib/python3.11/site-packages/matminer/datasets/utils.py:111: UserWarning: Error, hash of downloaded file does not match that included in metadata, the data may be corrupt or altered\n",
      "  url, file_path), flush=True)\n",
      "/Users/geet/anaconda3/lib/python3.11/site-packages/matminer/datasets/utils.py:113: UserWarning: Waiting 60s and trying again...\n",
      "  r = requests.get(url, stream=True)\n"
     ]
    },
    {
     "name": "stdout",
     "output_type": "stream",
     "text": [
      "Fetching dielectric_constant.json.gz from https://ndownloader.figshare.com/files/13213475 to /Users/geet/anaconda3/lib/python3.11/site-packages/matminer/datasets/dielectric_constant.json.gz\n"
     ]
    },
    {
     "name": "stderr",
     "output_type": "stream",
     "text": [
      "Fetching https://ndownloader.figshare.com/files/13213475 in MB: 0.002048MB [00:00,  3.64s/MB]\n"
     ]
    },
    {
     "name": "stdout",
     "output_type": "stream",
     "text": [
      "Fetching dielectric_constant.json.gz from https://ndownloader.figshare.com/files/13213475 to /Users/geet/anaconda3/lib/python3.11/site-packages/matminer/datasets/dielectric_constant.json.gz\n"
     ]
    },
    {
     "name": "stderr",
     "output_type": "stream",
     "text": [
      "Fetching https://ndownloader.figshare.com/files/13213475 in MB: 0.002048MB [00:00,  3.55s/MB]\n"
     ]
    },
    {
     "name": "stdout",
     "output_type": "stream",
     "text": [
      "Fetching dielectric_constant.json.gz from https://ndownloader.figshare.com/files/13213475 to /Users/geet/anaconda3/lib/python3.11/site-packages/matminer/datasets/dielectric_constant.json.gz\n"
     ]
    },
    {
     "name": "stderr",
     "output_type": "stream",
     "text": [
      "Fetching https://ndownloader.figshare.com/files/13213475 in MB: 0.002048MB [00:00,  3.44s/MB]\n"
     ]
    },
    {
     "name": "stdout",
     "output_type": "stream",
     "text": [
      "Unexpected exception formatting exception. Falling back to standard exception\n"
     ]
    },
    {
     "name": "stderr",
     "output_type": "stream",
     "text": [
      "Traceback (most recent call last):\n",
      "  File \"/Users/geet/anaconda3/lib/python3.11/site-packages/matminer/datasets/utils.py\", line 108, in _validate_dataset\n",
      "UserWarning\n",
      "\n",
      "During handling of the above exception, another exception occurred:\n",
      "\n",
      "Traceback (most recent call last):\n",
      "  File \"/Users/geet/anaconda3/lib/python3.11/site-packages/IPython/core/interactiveshell.py\", line 3526, in run_code\n",
      "    exec(code_obj, self.user_global_ns, self.user_ns)\n",
      "  File \"/var/folders/5n/tswyg5x10mn1zfxf2k0jdp_40000gn/T/ipykernel_44987/2719121440.py\", line 3, in <module>\n",
      "    df = load_dataset(\"dielectric_constant\")\n",
      "         ^^^^^^^^^^^^^^^^^^^^^^^^^^^^^^^^^^^\n",
      "  File \"/Users/geet/anaconda3/lib/python3.11/site-packages/matminer/datasets/dataset_retrieval.py\", line 66, in load_dataset\n",
      "    return df\n",
      "  File \"/Users/geet/anaconda3/lib/python3.11/site-packages/matminer/datasets/utils.py\", line 116, in _validate_dataset\n",
      "    for chunk in r.iter_content(chunk_size=2048):\n",
      "                ^^^^^^^^^^^^^^^^^^^^^^^^^^^^^^^^^\n",
      "UserWarning: File could not be downloaded to /Users/geet/anaconda3/lib/python3.11/site-packages/matminer/datasets/dielectric_constant.json.gz after 3 retriesdue to repeated hash validation failures.\n",
      "\n",
      "During handling of the above exception, another exception occurred:\n",
      "\n",
      "Traceback (most recent call last):\n",
      "  File \"/Users/geet/anaconda3/lib/python3.11/site-packages/IPython/core/interactiveshell.py\", line 2120, in showtraceback\n",
      "    stb = self.InteractiveTB.structured_traceback(\n",
      "          ^^^^^^^^^^^^^^^^^^^^^^^^^^^^^^^^^^^^^^^^\n",
      "  File \"/Users/geet/anaconda3/lib/python3.11/site-packages/IPython/core/ultratb.py\", line 1435, in structured_traceback\n",
      "    return FormattedTB.structured_traceback(\n",
      "           ^^^^^^^^^^^^^^^^^^^^^^^^^^^^^^^^^\n",
      "  File \"/Users/geet/anaconda3/lib/python3.11/site-packages/IPython/core/ultratb.py\", line 1326, in structured_traceback\n",
      "    return VerboseTB.structured_traceback(\n",
      "           ^^^^^^^^^^^^^^^^^^^^^^^^^^^^^^^\n",
      "  File \"/Users/geet/anaconda3/lib/python3.11/site-packages/IPython/core/ultratb.py\", line 1192, in structured_traceback\n",
      "    formatted_exceptions += self.format_exception_as_a_whole(etype, evalue, etb, lines_of_context,\n",
      "                            ^^^^^^^^^^^^^^^^^^^^^^^^^^^^^^^^^^^^^^^^^^^^^^^^^^^^^^^^^^^^^^^^^^^^^^\n",
      "  File \"/Users/geet/anaconda3/lib/python3.11/site-packages/IPython/core/ultratb.py\", line 1088, in format_exception_as_a_whole\n",
      "    frames.append(self.format_record(record))\n",
      "                  ^^^^^^^^^^^^^^^^^^^^^^^^^^\n",
      "  File \"/Users/geet/anaconda3/lib/python3.11/site-packages/IPython/core/ultratb.py\", line 970, in format_record\n",
      "    frame_info.lines, Colors, self.has_colors, lvals\n",
      "    ^^^^^^^^^^^^^^^^\n",
      "  File \"/Users/geet/anaconda3/lib/python3.11/site-packages/IPython/core/ultratb.py\", line 792, in lines\n",
      "    return self._sd.lines\n",
      "           ^^^^^^^^^^^^^^\n",
      "  File \"/Users/geet/anaconda3/lib/python3.11/site-packages/stack_data/utils.py\", line 145, in cached_property_wrapper\n",
      "    value = obj.__dict__[self.func.__name__] = self.func(obj)\n",
      "                                               ^^^^^^^^^^^^^^\n",
      "  File \"/Users/geet/anaconda3/lib/python3.11/site-packages/stack_data/core.py\", line 698, in lines\n",
      "    pieces = self.included_pieces\n",
      "             ^^^^^^^^^^^^^^^^^^^^\n",
      "  File \"/Users/geet/anaconda3/lib/python3.11/site-packages/stack_data/utils.py\", line 145, in cached_property_wrapper\n",
      "    value = obj.__dict__[self.func.__name__] = self.func(obj)\n",
      "                                               ^^^^^^^^^^^^^^\n",
      "  File \"/Users/geet/anaconda3/lib/python3.11/site-packages/stack_data/core.py\", line 649, in included_pieces\n",
      "    pos = scope_pieces.index(self.executing_piece)\n",
      "                             ^^^^^^^^^^^^^^^^^^^^\n",
      "  File \"/Users/geet/anaconda3/lib/python3.11/site-packages/stack_data/utils.py\", line 145, in cached_property_wrapper\n",
      "    value = obj.__dict__[self.func.__name__] = self.func(obj)\n",
      "                                               ^^^^^^^^^^^^^^\n",
      "  File \"/Users/geet/anaconda3/lib/python3.11/site-packages/stack_data/core.py\", line 628, in executing_piece\n",
      "    return only(\n",
      "           ^^^^^\n",
      "  File \"/Users/geet/anaconda3/lib/python3.11/site-packages/executing/executing.py\", line 164, in only\n",
      "    raise NotOneValueFound('Expected one value, found 0')\n",
      "executing.executing.NotOneValueFound: Expected one value, found 0\n"
     ]
    }
   ],
   "source": [
    "from matminer.datasets import load_dataset\n",
    "\n",
    "df = load_dataset(\"dielectric_constant\")"
   ]
  },
  {
   "cell_type": "code",
   "execution_count": null,
   "id": "12ead225-7b54-48b7-bc3a-f3f83b287968",
   "metadata": {},
   "outputs": [],
   "source": []
  }
 ],
 "metadata": {
  "kernelspec": {
   "display_name": "Python 3 (ipykernel)",
   "language": "python",
   "name": "python3"
  },
  "language_info": {
   "codemirror_mode": {
    "name": "ipython",
    "version": 3
   },
   "file_extension": ".py",
   "mimetype": "text/x-python",
   "name": "python",
   "nbconvert_exporter": "python",
   "pygments_lexer": "ipython3",
   "version": "3.11.5"
  }
 },
 "nbformat": 4,
 "nbformat_minor": 5
}
